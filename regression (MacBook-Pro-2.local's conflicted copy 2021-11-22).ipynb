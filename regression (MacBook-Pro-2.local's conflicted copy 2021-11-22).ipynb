{
 "cells": [
  {
   "cell_type": "code",
   "execution_count": null,
   "metadata": {
    "id": "DBdkco_ocfjN"
   },
   "outputs": [],
   "source": [
    "import numpy as np\n",
    "import pandas as pd\n",
    "from sklearn.metrics import r2_score\n",
    "from sklearn.linear_model import LassoCV, Lasso\n",
    "from sklearn.preprocessing import StandardScaler\n",
    "from sklearn.pipeline import Pipeline\n",
    "from sklearn.model_selection import GridSearchCV\n",
    "from sklearn.model_selection import train_test_split"
   ]
  },
  {
   "cell_type": "code",
   "execution_count": null,
   "metadata": {},
   "outputs": [],
   "source": [
    "# config: depends whether you're on Google Colab or local\n",
    "\n",
    "# On google colab\n",
    "# Mount GDrive and attach it to the colab for data I/O\n",
    "# from google.colab import drive\n",
    "# drive.mount('/content/drive')\n",
    "# input_dir = '/content/drive/My Drive/covid19_argentina/data/input/'\n",
    "# output_dir = '/content/drive/My Drive/covid19_argentina/data/output/'\n",
    "\n",
    "# Locally\n",
    "input_dir = './data/input/'\n",
    "output_dir = './data/output/'\n",
    "\n"
   ]
  },
  {
   "cell_type": "code",
   "execution_count": null,
   "metadata": {},
   "outputs": [],
   "source": [
    "def add_top_column(df, top_col, inplace=True):\n",
    "    if not inplace:\n",
    "        df = df.copy()\n",
    "    \n",
    "    df.columns = pd.MultiIndex.from_product([[top_col], df.columns])\n",
    "    return df"
   ]
  },
  {
   "cell_type": "code",
   "execution_count": null,
   "metadata": {},
   "outputs": [],
   "source": [
    "# Hyperparameter tuning\n",
    "\n",
    "# Parameters of pipelines can be set using ‘__’ separated parameter names:\n",
    "\n",
    "def lasso_standardscaler_alpha(X,y,cv=10):\n",
    "    alphas= np.logspace(-4, 0, 30) #equally spaced on log scale from 10**-4 (0.0004) to 10**0 (1)\n",
    "    pipe = Pipeline(steps=[\n",
    "        ('scaler', StandardScaler()), \n",
    "        ('model', Lasso())\n",
    "    ])\n",
    "    param_grid = {\n",
    "        'model__alpha': alphas,\n",
    "    }\n",
    "    search = GridSearchCV(pipe,param_grid, cv=cv,n_jobs=-1)\n",
    "    search.fit(X,y)\n",
    "    results = pd.DataFrame(search.cv_results_)\n",
    "    best = results[results['rank_test_score']==1]\n",
    "    mean_score = best.mean_test_score.values\n",
    "    std_score = best.std_test_score.values\n",
    "    alpha = float(best.param_model__alpha.values)\n",
    "    return alpha"
   ]
  },
  {
   "cell_type": "code",
   "execution_count": null,
   "metadata": {
    "colab": {
     "base_uri": "https://localhost:8080/",
     "height": 416
    },
    "id": "By9Sc1UIl38D",
    "outputId": "f34e156e-177d-4af0-c08a-545fc5962a32"
   },
   "outputs": [],
   "source": [
    "# Load data\n",
    "\n",
    "df = pd.read_csv(input_dir+'Emotional symptoms COVID19_Arg_May20_v2.csv', sep = ';')\n",
    "df"
   ]
  },
  {
   "cell_type": "code",
   "execution_count": null,
   "metadata": {},
   "outputs": [],
   "source": [
    "df.columns"
   ]
  },
  {
   "cell_type": "code",
   "execution_count": null,
   "metadata": {},
   "outputs": [],
   "source": [
    "# with regards to the correlation, we added a few variables \n",
    "X = df[[\n",
    "        'PHQ9_Total',\n",
    "        'GAD7_Total',\n",
    "        'Lockdown_adherence',\n",
    "        'Age',\n",
    "        'Gender', #added (binary)\n",
    "        'Family_Income',  #added (ordinal)\n",
    "        'Negat_thinking', #added (binary)\n",
    "        'COGN_DIFFICULTIES_index',\n",
    "        'Mental_fatigue', 'Threat', 'Riskofcontagion', \n",
    "       'Lockdown_difficulty', 'Financialworry_present',\n",
    "       'Financialworry_future', 'Daily_stress_Index', 'IU_total',\n",
    "       'UCLA_LS_Total',          \n",
    "       ]]\n",
    "\n",
    "# Create dummy variable for gender\n",
    "gender = X['Gender']\n",
    "gender = pd.get_dummies(gender,prefix='Gender')\n",
    "print(gender)\n",
    "print(gender.sum())\n",
    "\n",
    "\n",
    "X = X.drop('Gender', axis=1)\n",
    "X['Gender_female'] = gender['Gender_1']\n",
    "X['Gender_male'] = gender['Gender_2']\n",
    "# other genders were not included since there were only 9. \n",
    "\n",
    "variables = X.columns.values\n"
   ]
  },
  {
   "cell_type": "code",
   "execution_count": null,
   "metadata": {},
   "outputs": [],
   "source": [
    "# Create DFs for each IV\n",
    "\n",
    "# Depression\n",
    "\n",
    "variables_depression = X.drop('PHQ9_Total',axis=1).columns.values\n",
    "X_depression = X.drop('PHQ9_Total',axis=1).values\n",
    "y_depression = X['PHQ9_Total'].values\n",
    "print('depression covariates', variables_depression)\n",
    "print(X_depression.shape, y_depression.shape)\n",
    "print('\\n\\n')\n",
    "\n",
    "# Anxiety\n",
    "\n",
    "variables_anxiety = X.drop('GAD7_Total',axis=1).columns.values\n",
    "X_anxiety = X.drop('GAD7_Total',axis=1).values\n",
    "y_anxiety = X['GAD7_Total'].values\n",
    "print('Anxiety covariates', variables_anxiety)\n",
    "print(X_anxiety.shape, y_anxiety.shape)\n",
    "print('\\n\\n')\n",
    "\n",
    "\n",
    "# Lockdown Adherence\n",
    "\n",
    "variables_lockdown = X.drop('Lockdown_adherence',axis=1).columns.values\n",
    "X_lockdown = X.drop('Lockdown_adherence',axis=1).values\n",
    "y_lockdown = X['Lockdown_adherence'].values\n",
    "print('Lockdown Adherence covariates', variables_lockdown)\n",
    "print(X_lockdown.shape, y_lockdown.shape)\n",
    "print('\\n\\n')\n",
    "\n"
   ]
  },
  {
   "cell_type": "code",
   "execution_count": null,
   "metadata": {},
   "outputs": [],
   "source": [
    "# Observe the range of the covariates\n",
    "X.drop('PHQ9_Total',axis=1).describe()"
   ]
  },
  {
   "cell_type": "code",
   "execution_count": null,
   "metadata": {},
   "outputs": [],
   "source": [
    "# Provide clean names for manuscript table\n",
    "variables"
   ]
  },
  {
   "cell_type": "code",
   "execution_count": null,
   "metadata": {},
   "outputs": [],
   "source": [
    "clean_names= dict(zip(\n",
    "    variables,\n",
    "    ['PHQ9', 'GAD7','Lockdown adherence','Age','Family income', 'Negative thinking','Cognitive troubles', 'Mental fatigue', 'Perceived threat', 'Perceived risk','Lockdown difficulty','Financial worries (present)','Financial worries (future)','Daily stress', 'Intolerance of uncertainty', 'Loneliness scale', 'Female', 'Male']\n",
    "    \n",
    "    ))\n",
    "\n",
    "clean_names"
   ]
  },
  {
   "cell_type": "code",
   "execution_count": null,
   "metadata": {},
   "outputs": [],
   "source": [
    "# Train and test\n",
    "\n",
    "coefs_all= []\n",
    "r2_all=[]\n",
    "\n",
    "\n",
    "for X_i,y_i,variables,name in [\n",
    "    [X_depression, y_depression, variables_depression,'depression'],\n",
    "    [X_anxiety, y_anxiety, variables_anxiety,'anxiety'],\n",
    "    [X_lockdown, y_lockdown,  variables_lockdown,'lockdown'],\n",
    "                            ]:\n",
    "    #Train test split\n",
    "    X_train, X_test, y_train, y_test = train_test_split(X_i, y_i, test_size=0.2, random_state=42)\n",
    "\n",
    "    # Hyperparameter tuning     \n",
    "    best_alpha = lasso_standardscaler_alpha(X_train,y_train,cv=10) # Find best alpha through CV\n",
    "    \n",
    "    # Train final model      \n",
    "    pipe = Pipeline(steps=[\n",
    "        ('scaler', StandardScaler()), \n",
    "        ('model', Lasso(alpha = best_alpha))\n",
    "    ])\n",
    "    pipe.fit(X_train,y_train)\n",
    "    \n",
    "    # Test     \n",
    "    y_pred = pipe.predict(X_test)\n",
    "    r2 = r2_score(y_test,y_pred)\n",
    "    \n",
    "    # Obtain standardized beta coefficients     \n",
    "    coefs= pd.DataFrame(pipe['model'].coef_,index=variables, columns= ['Coef.'])\n",
    "    \n",
    "    # Clean dataframe     \n",
    "    coefs.index = [clean_names.get(n) for n in coefs.index.values]\n",
    "    coefs['Abs. Coef.'] = coefs['Coef.'].abs()\n",
    "    coefs= coefs.sort_values('Abs. Coef.')[::-1].reset_index()\n",
    "    coefs.index +=1\n",
    "    coefs= coefs.reset_index().round(2)\n",
    "    coefs.columns= ['Importance', 'Covariate', 'Coef.','Abs. Coef.']\n",
    "    coefs['Coef.'] =     coefs['Coef.'].astype(str).replace('^(-)0.|^0.',r'\\1.',regex=True)\n",
    "    if name == 'depression':\n",
    "        coefs= coefs.drop(['Abs. Coef.'], axis=1)#drop abs value\n",
    "    else:\n",
    "        coefs= coefs.drop(['Abs. Coef.','Importance'], axis=1)#drop abs value\n",
    "    \n",
    "    coefs = add_top_column(coefs,f'{name.capitalize()} R^2 = {np.round(r2,2)}' )\n",
    "    coefs.to_csv(output_dir+f'coefs_{name}.csv',index=False)\n",
    "    coefs_all.append(coefs)\n",
    "    r2_all.append([name,np.round(r2,2)])\n",
    "\n"
   ]
  },
  {
   "cell_type": "code",
   "execution_count": null,
   "metadata": {},
   "outputs": [],
   "source": [
    "# Alternative that does not return best params\n",
    "#     reg = LassoCV(cv=10,alphas = alphas,normalize=True, random_state=0).fit(X_train, y_train) #normalize\n",
    "#     r2 = reg.score(X_test, y_test)"
   ]
  },
  {
   "cell_type": "code",
   "execution_count": null,
   "metadata": {},
   "outputs": [],
   "source": [
    "# Concatenate 3 dataframes\n",
    "coefs_all_clean = pd.concat(coefs_all,axis=1)\n",
    "coefs_all_clean.to_csv(output_dir+'coefs_all.csv', index=False)\n",
    "coefs_all_clean"
   ]
  },
  {
   "cell_type": "code",
   "execution_count": null,
   "metadata": {},
   "outputs": [],
   "source": []
  },
  {
   "cell_type": "code",
   "execution_count": null,
   "metadata": {},
   "outputs": [],
   "source": []
  }
 ],
 "metadata": {
  "colab": {
   "collapsed_sections": [],
   "name": "regression.ipynb",
   "provenance": []
  },
  "kernelspec": {
   "display_name": "Python 3",
   "language": "python",
   "name": "python3"
  },
  "language_info": {
   "codemirror_mode": {
    "name": "ipython",
    "version": 3
   },
   "file_extension": ".py",
   "mimetype": "text/x-python",
   "name": "python",
   "nbconvert_exporter": "python",
   "pygments_lexer": "ipython3",
   "version": "3.7.10"
  }
 },
 "nbformat": 4,
 "nbformat_minor": 1
}
